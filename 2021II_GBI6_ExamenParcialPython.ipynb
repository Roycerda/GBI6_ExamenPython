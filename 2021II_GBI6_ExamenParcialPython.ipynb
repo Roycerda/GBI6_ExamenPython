{
 "cells": [
  {
   "cell_type": "markdown",
   "metadata": {},
   "source": [
    "<img src=\"https://www.ikiam.edu.ec/img/logo-ikiam-grey.png\" width=300 height=240 />\n",
    "\n",
    "# EXAMEN PARCIAL PYTHON\n",
    "    \n",
    "\n",
    "## GBI6-2021II: BIOINFORMÁTICA\n",
    "\n",
    "**Cerda Simbaña Guillermo Roy\n",
    "\n",
    "**18-02-2021**"
   ]
  },
  {
   "cell_type": "markdown",
   "metadata": {},
   "source": [
    "<font color='red'>NO AGREGUE NUEVAS CELDAS, UTILICE ÚNICAMENTE LAS QUE ESTÁN CREADAS</font>\n"
   ]
  },
  {
   "cell_type": "markdown",
   "metadata": {},
   "source": [
    "### REQUERIMIENTOS PARA EL EXAMEN\n",
    "Para este examen se requiere dos documentos: \n",
    "\n",
    "1. Archivo ```miningscience.py``` donde tendrá dos funciones:\n",
    "\n",
    "2. Archivo ```2021II_GBI6_ExamenParcialPython``` donde se llamará las funciones y se obtendrá resultados."
   ]
  },
  {
   "cell_type": "markdown",
   "metadata": {},
   "source": [
    "## Ejercicio 1 [2 puntos]\n",
    "Cree el archivo ```miningscience.py``` con las siguientes dosfunciones:\n",
    "    \n",
    "i. ```download_pubmed```: para descargar la data de PubMed utilizando el **ENTREZ** de Biopython. El parámetro de entrada para la función es el ```keyword```. \n",
    "    \n",
    "ii. ```mining_pubs```: esta función debe utilizar el módulo **re** y utilizar el párametro ```tipo``` para realizar lo siguiente:\n",
    "        \n",
    "* Si el tipo es \"DP\" recupera el año de publicación del artículo. El retorno es un *dataframe* con el **PMID** y el **DP_year**.\n",
    "      \n",
    "* Si el tipo es \"AU\" recupera el número de autores por **PMID**. El retorno es un *dataframe* con el **PMID** y el **num_auth**. \n",
    "      \n",
    "* Si el tipo es \"AD\" recupera el conteo de autores por país. El retorno es un *dataframe* con el **country** y el **num_auth**. \n",
    "\n",
    "* *Puede utilizar un ```if``` dentro de la función.* \n",
    "\n",
    "* *Cree un docstring para cada función.* \n",
    "\n",
    "Luego de crear las funciones, cargue el módulo ```miningscience``` como ```msc``` e imprima docstring de cada función.\n",
    "\n",
    "\n"
   ]
  },
  {
   "cell_type": "code",
   "execution_count": 59,
   "metadata": {},
   "outputs": [
    {
     "name": "stdout",
     "output_type": "stream",
     "text": [
      "Help on function download_pubmed in module miningscience1:\n",
      "\n",
      "download_pubmed(keyword)\n",
      "    para descargar la data de PubMed utilizando el ENTREZ de Biopython el parámetro de entrada para la función es el keyword\n",
      "\n",
      "Help on function mining_pubs in module miningscience1:\n",
      "\n",
      "mining_pubs(tipo)\n",
      "    esta función debe utilizar el módulo re y utilizar el párametro tipo para realizar lo siguiente:\n",
      "    \n",
      "    Si el tipo es \"DP\" recupera el año de publicación del artículo. El retorno es un dataframe con el PMID y el DP_year.\n",
      "    \n",
      "    Si el tipo es \"AU\" recupera el número de autores por PMID. El retorno es un dataframe con el PMID y el num_auth.\n",
      "    \n",
      "    Si el tipo es \"AD\" recupera el conteo de autores por país. El retorno es un dataframe con el country y el num_auth.\n",
      "\n"
     ]
    }
   ],
   "source": [
    "import miningscience1 as msc\n",
    "\n",
    "help(msc.download_pubmed)\n",
    "help(msc.mining_pubs)"
   ]
  },
  {
   "cell_type": "markdown",
   "metadata": {},
   "source": [
    "\n",
    "## Ejercicio 2 [1 punto]\n",
    "\n",
    "\n",
    "Utilice la función ```download_pubmed``` para descargar la data con el keyword ```Ecuador proteomics``` e imprima lo siguiente: \n",
    "\n",
    "```python\n",
    "'El número de artículos es: xx' # xx corresponde al número de artículos recuperados\n",
    "\n",
    "'El PMID del primer artículo es: xxxxxxxx' # xxxxxxxx corresponde al ID del artículo en PUDMED\n",
    "\n",
    "```"
   ]
  },
  {
   "cell_type": "code",
   "execution_count": 60,
   "metadata": {},
   "outputs": [
    {
     "name": "stdout",
     "output_type": "stream",
     "text": [
      "número de artículos es:  193\n",
      "PMID del primer artículo es:  35121084\n"
     ]
    }
   ],
   "source": [
    "record=msc.download_pubmed(keyword=\"Ecuador genomics\")\n",
    "\n",
    "print(\"número de artículos es: \", record[\"Count\"] )\n",
    "print(\"PMID del primer artículo es: \", record[\"IdList\"][0] )"
   ]
  },
  {
   "cell_type": "markdown",
   "metadata": {},
   "source": [
    "## Ejercicio 3 [1 punto]\n",
    "\n",
    "Utilice la función ```mining_pubs``` para crear los siguientes dataframes: \n",
    "\n",
    "* pub_year\n",
    "\n",
    "* pub_authors\n",
    "\n",
    "* coutries\n",
    "\n",
    "Muestre los dos primeros y los dos últimos registros de cada dataframe. "
   ]
  },
  {
   "cell_type": "code",
   "execution_count": 61,
   "metadata": {},
   "outputs": [
    {
     "name": "stdout",
     "output_type": "stream",
     "text": [
      " pub_year\n",
      "         PMID DP_year\n",
      "0    35121084    2022\n",
      "1    35120121    2022\n",
      "190  19018989    2008\n",
      "191  17187350    2007\n",
      " pub_authors\n",
      "         PMID  num_auth\n",
      "0    35121084        12\n",
      "1    35120121        14\n",
      "190  19018989         7\n",
      "191  17187350         1\n",
      " coutries\n",
      "               PMID  num_auth\n",
      "0                 U         2\n",
      "1             Egypt         5\n",
      "190        Belgique         8\n",
      "191   South Africa         13\n",
      "192               U         1\n",
      "193        Panama c         8\n",
      "194         Germany         7\n",
      "195          Russia         6\n",
      "196           Nepal         5\n",
      "197         Greece          7\n",
      "198   ACT Australia        13\n",
      "199        Malaysia         8\n",
      "200  Austria angela        14\n"
     ]
    }
   ],
   "source": [
    "print(\" pub_year\")\n",
    "df=msc.mining_pubs(tipo=\"PD\")\n",
    "print(pd.concat([df.iloc[:2],df.iloc[190:]]))\n",
    "print(\" pub_authors\")\n",
    "df=msc.mining_pubs(tipo=\"AU\")\n",
    "print(pd.concat([df.iloc[:2],df.iloc[190:]]))\n",
    "print(\" coutries\")\n",
    "df=msc.mining_pubs(tipo=\"AD\")\n",
    "print(pd.concat([df.iloc[:2],df.iloc[190:]]))"
   ]
  },
  {
   "cell_type": "markdown",
   "metadata": {
    "jp-MarkdownHeadingCollapsed": true,
    "tags": []
   },
   "source": [
    "## Ejercicio 4 [2 puntos]\n",
    "\n",
    "Realice la visualización de los datos del ejercicio 3. \n",
    "\n",
    "* ```pubyear```: utilizando el conteo artículos por año, calcule la media y la desviación estandar (asumiendo que la distribución es normal). Realice un gráfico de la distribución normal de sus datos. Coloque el título, leyenda de los ejes \"x\" e \"y\", y la leyenda de la curva (utilice las expresiones matemáticas tipos latex de ser necesario). \n",
    "\n",
    "* ```pub_authors```: realice un boxplot del conteo de autores por artículo. Coloque las leyendas adecuadas para cada eje y el título.  \n",
    "\n",
    "* ```countries```: realice una nube de puntos (adaptación de su tarea), resalte al menos 3 países con flechas. Coloque las leyendas adecuadas para cada eje y el título. \n"
   ]
  },
  {
   "cell_type": "code",
   "execution_count": 8,
   "metadata": {},
   "outputs": [
    {
     "name": "stdout",
     "output_type": "stream",
     "text": [
      "media: 12.8\n",
      "desviación estandar: 12.708002727940112\n"
     ]
    },
    {
     "data": {
      "image/png": "[encoded data removed]",
      "text/plain": [
       "<Figure size 432x288 with 1 Axes>"
      ]
     },
     "metadata": {
      "needs_background": "light"
     },
     "output_type": "display_data"
    },
    {
     "data": {
      "image/png": "[encoded data removed]",
      "text/plain": [
       "<Figure size 648x432 with 1 Axes>"
      ]
     },
     "metadata": {
      "needs_background": "light"
     },
     "output_type": "display_data"
    },
    {
     "data": {
      "image/png": "[encoded data removed]",
      "text/plain": [
       "<Figure size 864x576 with 2 Axes>"
      ]
     },
     "metadata": {
      "needs_background": "light"
     },
     "output_type": "display_data"
    }
   ],
   "source": [
    "# pubyear\n",
    "import statistics as stats\n",
    "pubyear=[36,40,6,21,1,1,22,23,15,1,1,8,2,14,1]\n",
    "print(\"media:\",stats.mean(pubyear))\n",
    "print(\"desviación estandar:\",stats.pstdev(pubyear))\n",
    "\n",
    "import numpy as np\n",
    "import matplotlib.pyplot as plt\n",
    "import math\n",
    " \n",
    "def normal_distribution(x, mean, sigma):\n",
    "    return np.exp(-1*((x-mean)**2)/(2*(sigma**2)))/(math.sqrt(2*np.pi) * sigma)\n",
    " \n",
    "mean1, sigma1 = 12.8, 12.708002727940112 \n",
    "x1 = np.linspace(mean1 - 6*sigma1, mean1 + 6*sigma1, 191)\n",
    "y1 = normal_distribution(x1, mean1, sigma1)\n",
    "\n",
    "plt.plot(x1, y1, 'b', label='m=12.8, sig=12,7')\n",
    "plt.legend(title = \"Parámetros\")\n",
    "plt.title('Distribución Normal de conteo artículos por año')\n",
    "plt.ylabel('probabilidad')\n",
    "plt.xlabel('valores')\n",
    "plt.grid()\n",
    "plt.show()\n",
    "\n",
    "# pub_authors\n",
    "\n",
    "import matplotlib.pyplot as plt\n",
    "import numpy as np\n",
    "  \n",
    "np.random.seed(4)\n",
    " \n",
    "data_1 = np.random.normal(12, 0, 200)\n",
    "data_2 = np.random.normal(14, 1, 200)\n",
    "data_3 = np.random.normal(7, 190, 200)\n",
    "data_4 = np.random.normal(1, 191, 200)\n",
    "data = [data_1, data_2, data_3, data_4]\n",
    " \n",
    "fig = plt.figure(figsize =(9, 6))\n",
    " \n",
    "ax = fig.add_axes([0, 0, 1, 1])\n",
    "\n",
    "bp = ax.boxplot(data)\n",
    "plt.xlabel('x')\n",
    "plt.ylabel('y')\n",
    "plt.title('Boxplot del conteo de autores por artículo')\n",
    "plt.show()\n",
    "\n",
    "#countries\n",
    "\n",
    "%matplotlib inline\n",
    "import pandas as pd\n",
    "import re\n",
    "import csv\n",
    "with open('data/Ecuador_genomics.txt') as f:\n",
    "    my_text = f.read()\n",
    "    my_text = re.sub(r'\\n\\s{6}', ' ', my_text)\n",
    "countries = []\n",
    "\n",
    "for ln in my_text.splitlines():\n",
    "    if ln.startswith(\"AD  -\"):\n",
    "        adreess = ln[:]\n",
    "        country = re.findall(r'\\,\\s([\\sA-Za-z{2:50}]+)\\.', adreess)\n",
    "        countries.append(country)\n",
    "\n",
    "import itertools\n",
    "countries = list(itertools.chain.from_iterable(countries))\n",
    "uniq_countries = list(set(countries))\n",
    "\n",
    "country_coords = {}\n",
    "with open('data/countryEG.txt') as f:\n",
    "    csvr = csv.DictReader(f)   \n",
    "    for row in csvr:\n",
    "        country_coords[row['Country']] = [float(row['LT']),\n",
    "                                          float(row['LG'])]\n",
    "paises = []\n",
    "country_long = []\n",
    "country_lat = []\n",
    "country_count = []\n",
    "for z in uniq_countries:\n",
    "    if z in country_coords.keys():\n",
    "        paises.append(z)\n",
    "        country_lat.append(country_coords[z][0])\n",
    "        country_long.append(country_coords[z][1])\n",
    "        country_count.append(countries.count(z))\n",
    "\n",
    "import numpy as np\n",
    "import matplotlib.pyplot as plt\n",
    "%matplotlib inline\n",
    "plt.scatter(country_long, country_lat, s = country_count, c= country_count)\n",
    "plt.colorbar()\n",
    "plt.xlim(-130, 150)\n",
    "plt.ylim(-70, 82)\n",
    "ard = dict(arrowstyle=\"->\")\n",
    "plt.annotate('Panama', xy = (-80.782127, 8.537981), \n",
    "               xytext = (-45, 55), arrowprops= ard)\n",
    "plt.annotate('Germany', xy = (10.451526,51.165691), \n",
    "               xytext = (-40, 30), arrowprops = ard)\n",
    "plt.annotate('Australia', xy = (133.775136,-25.274398), \n",
    "               xytext = (110, -18), arrowprops= ard)\n",
    "plt.annotate('Egypt', xy = (26.820553, 30.802498), \n",
    "               xytext = (1, 70), arrowprops= ard)\n",
    "params = plt.gcf()\n",
    "plSize = params.get_size_inches()\n",
    "params.set_size_inches( (plSize[0] * 2, plSize[1] * 2) )\n"
   ]
  },
  {
   "cell_type": "markdown",
   "metadata": {},
   "source": [
    "## Ejercicio 5 [1 punto]\n",
    "\n",
    "Interprete los resultados del **ejercicio 4**\n",
    "\n",
    "Grafica 1\n",
    "\n",
    "En la distribucion normal se representa el conteo artículos por año, ademas existe una media de 12.8 y una desviacion estandar de 12.7 esos conteos de artículos. Sobre todo muestra la probabilidad de publicaciones que se han realizado en cada año.\n",
    "\n",
    "Grafica 2\n",
    "\n",
    "La grafica 2 representa el boxplot de conteo de autores por artículo, pero es este caso solo se hizo el boxplot de 4 datos y no de todos los datos de conteo, entonces nos muestra la cantidad de autores que está en cada artículo enumerado. Por ejemplo, en el artículo número 190 están un total de 7 autores. Cabe recalcar que las cajas están presentando el número de articulo, por lo que en las primeras se ven como una línea, pero en esos artículos hay 12 y 14 autores respectivamente. \n",
    "\n",
    "Grafica 3\n",
    "\n",
    "En la gráfica 3 se representa la cantidad de autores y los paises donde han sido publicados los articulos. Y los otros puntos de color igual manera estan representando los paises donde estan los autores que estan relacionados con el tema Ecuador Genomic. \n",
    "\n"
   ]
  },
  {
   "cell_type": "markdown",
   "metadata": {},
   "source": [
    "## Ejercicio 6 [2 puntos]\n",
    "\n",
    "Para algún gen de interés, realice lo siguiente: \n",
    "\n",
    "1. Una búsqueda en la página del [NCBI nucleotide](https://www.ncbi.nlm.nih.gov/nucleotide/).\n",
    "\n",
    "2. Descargue el ```Accession List``` de su búsqueda.\n",
    "\n",
    "3. Cargue el ```Accession List``` en este notebook y haga una descarga de la data tipo ```genbank``` utilizando los diez primeros IDs de accesión. \n",
    "\n",
    "4. Arme un árbol filogenético para los resultados del paso 3.\n",
    "\n",
    "5. Interprete el árbol del paso 4. "
   ]
  },
  {
   "cell_type": "markdown",
   "metadata": {},
   "source": [
    "**Escriba aquí la interpretación del árbol**"
   ]
  },
  {
   "cell_type": "markdown",
   "metadata": {},
   "source": [
    "## Ejercicio 7 [1 punto]\n",
    "\n",
    "\n",
    "1. Cree en GitHub un repositorio de nombre ```GBI6_ExamenPython```. \n",
    "2. Cree un archivo ```Readme.md``` que debe tener lo siguiente: \n",
    "- Datos personales\n",
    "- Características del computador\n",
    "- Versión de Python/Anaconda y de cada uno de los módulos/paquetes y utilizados\n",
    "- Explicación de la data utilizada\n",
    "\n",
    "3. Cree un directorio de nombre ```data``` donde deben estar guardado la data utilizada \n",
    "4. Realice al menos 1 control de la versión (commits) por cada ejercicio (del 1 al 6), con un mensaje que inicie como: \n",
    "\n",
    "```sh \n",
    "Carlitos Alimaña ha realizado .....  \n",
    "```"
   ]
  },
  {
   "cell_type": "code",
   "execution_count": null,
   "metadata": {},
   "outputs": [],
   "source": []
  }
 ],
 "metadata": {
  "kernelspec": {
   "display_name": "Python 3 (ipykernel)",
   "language": "python",
   "name": "python3"
  },
  "language_info": {
   "codemirror_mode": {
    "name": "ipython",
    "version": 3
   },
   "file_extension": ".py",
   "mimetype": "text/x-python",
   "name": "python",
   "nbconvert_exporter": "python",
   "pygments_lexer": "ipython3",
   "version": "3.9.7"
  },
  "latex_envs": {
   "LaTeX_envs_menu_present": true,
   "autoclose": false,
   "autocomplete": true,
   "bibliofile": "biblio.bib",
   "cite_by": "apalike",
   "current_citInitial": 1,
   "eqLabelWithNumbers": true,
   "eqNumInitial": 1,
   "hotkeys": {
    "equation": "Ctrl-E",
    "itemize": "Ctrl-I"
   },
   "labels_anchors": false,
   "latex_user_defs": false,
   "report_style_numbering": false,
   "user_envs_cfg": false
  },
  "toc": {
   "base_numbering": 1,
   "nav_menu": {},
   "number_sections": true,
   "sideBar": false,
   "skip_h1_title": false,
   "title_cell": "Table of Contents",
   "title_sidebar": "Contents",
   "toc_cell": false,
   "toc_position": {
    "height": "1152.67px",
    "left": "41px",
    "top": "110px",
    "width": "253.458px"
   },
   "toc_section_display": true,
   "toc_window_display": false
  },
  "varInspector": {
   "cols": {
    "lenName": 16,
    "lenType": 16,
    "lenVar": 40
   },
   "kernels_config": {
    "python": {
     "delete_cmd_postfix": "",
     "delete_cmd_prefix": "del ",
     "library": "var_list.py",
     "varRefreshCmd": "print(var_dic_list())"
    },
    "r": {
     "delete_cmd_postfix": ") ",
     "delete_cmd_prefix": "rm(",
     "library": "var_list.r",
     "varRefreshCmd": "cat(var_dic_list()) "
    }
   },
   "types_to_exclude": [
    "module",
    "function",
    "builtin_function_or_method",
    "instance",
    "_Feature"
   ],
   "window_display": false
  }
 },
 "nbformat": 4,
 "nbformat_minor": 4
}
